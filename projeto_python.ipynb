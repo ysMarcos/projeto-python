{
  "nbformat": 4,
  "nbformat_minor": 0,
  "metadata": {
    "colab": {
      "provenance": [],
      "include_colab_link": true
    },
    "kernelspec": {
      "name": "python3",
      "display_name": "Python 3"
    },
    "language_info": {
      "name": "python"
    }
  },
  "cells": [
    {
      "cell_type": "markdown",
      "metadata": {
        "id": "view-in-github",
        "colab_type": "text"
      },
      "source": [
        "<a href=\"https://colab.research.google.com/github/ysMarcos/projeto-python/blob/main/projeto_python.ipynb\" target=\"_parent\"><img src=\"https://colab.research.google.com/assets/colab-badge.svg\" alt=\"Open In Colab\"/></a>"
      ]
    },
    {
      "cell_type": "markdown",
      "source": [
        "# Imports das Bibliotecas usadas"
      ],
      "metadata": {
        "id": "GY6St0KOZp4v"
      }
    },
    {
      "cell_type": "code",
      "source": [
        "#Imports\n",
        "from google.colab import userdata\n"
      ],
      "metadata": {
        "colab": {
          "base_uri": "https://localhost:8080/"
        },
        "id": "VxYLLwgKYbIe",
        "outputId": "7f33d7e9-7a57-429f-a182-05111868aee1"
      },
      "execution_count": null,
      "outputs": [
        {
          "output_type": "stream",
          "name": "stdout",
          "text": [
            "b4718540b964d64427a2e5434eda6274\n"
          ]
        }
      ]
    }
  ]
}