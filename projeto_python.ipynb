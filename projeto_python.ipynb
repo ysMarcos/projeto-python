{
  "nbformat": 4,
  "nbformat_minor": 0,
  "metadata": {
    "colab": {
      "provenance": [],
      "include_colab_link": true
    },
    "kernelspec": {
      "name": "python3",
      "display_name": "Python 3"
    },
    "language_info": {
      "name": "python"
    }
  },
  "cells": [
    {
      "cell_type": "markdown",
      "metadata": {
        "id": "view-in-github",
        "colab_type": "text"
      },
      "source": [
        "<a href=\"https://colab.research.google.com/github/ysMarcos/projeto-python/blob/main/projeto_python.ipynb\" target=\"_parent\"><img src=\"https://colab.research.google.com/assets/colab-badge.svg\" alt=\"Open In Colab\"/></a>"
      ]
    },
    {
      "cell_type": "markdown",
      "source": [
        "# Imports das Bibliotecas usadas"
      ],
      "metadata": {
        "id": "GY6St0KOZp4v"
      }
    },
    {
      "cell_type": "code",
      "source": [
        "#Imports\n",
        "import requests as req\n",
        "import hashlib\n",
        "import pandas as pd\n",
        "import sqlite3\n",
        "import json\n",
        "from google.colab import userdata"
      ],
      "metadata": {
        "id": "VxYLLwgKYbIe"
      },
      "execution_count": 2,
      "outputs": []
    },
    {
      "cell_type": "markdown",
      "source": [
        "# Funções utilizadas"
      ],
      "metadata": {
        "id": "OB9QWqPZfYt5"
      }
    },
    {
      "cell_type": "code",
      "source": [
        "#Funcao responsavel para encryptografar para md5 de acordo com a documentacao da api da Marvel\n",
        "def hashToMD5(publicKey, privateKey):\n",
        "  #Valor 1 eh o timestamp de exemplo usado na documentacao\n",
        "  return hashlib.md5(str.encode(str(1) + str(privateKey) + str(publicKey)))"
      ],
      "metadata": {
        "id": "xM0etIeih_6Y"
      },
      "execution_count": 3,
      "outputs": []
    },
    {
      "cell_type": "code",
      "source": [
        "# Funcao responsavel pelas requisicoes\n",
        "def get(url: str, endpoint: str, headers: dict, params: dict):\n",
        "  try:\n",
        "    response = req.get(\n",
        "        url = url+endpoint,\n",
        "        headers = headers,\n",
        "        params = params\n",
        "      )\n",
        "    return response.json()\n",
        "  except Exception as e:\n",
        "    print(e)"
      ],
      "metadata": {
        "id": "O7xtgfs0fel8"
      },
      "execution_count": 4,
      "outputs": []
    },
    {
      "cell_type": "code",
      "source": [
        "#Funcao responsavel por mapear os dados de acordo com o input recebido\n",
        "#Este mapeador eh generico e limitado em relacao a tipagens, para a construcao de um\n",
        "#banco de dados mais complexo e corretamente tipado, seria bom uma classe para os endpoints\n",
        "#que eh implementada os metodos de ETL\n",
        "def mapper(keys, values):\n",
        "  arr = []\n",
        "  obj = {}\n",
        "  for i in range(len(values)):\n",
        "    for j in range(len(keys)):\n",
        "      #Converte Listas e Dicionarios em string\n",
        "      if isinstance(values[i][keys[j]], (list, dict)):\n",
        "        obj[keys[j]] = json.dumps(values[i][keys[j]])\n",
        "      else:\n",
        "        obj[keys[j]] = values[i][keys[j]]\n",
        "    arr.append(obj)\n",
        "    obj = {}\n",
        "  return arr"
      ],
      "metadata": {
        "id": "do0FO3qCztHA"
      },
      "execution_count": 23,
      "outputs": []
    },
    {
      "cell_type": "code",
      "source": [
        "#Funcoes responsaveis pela transformacao dos dados em um Dataframe e salvar o objeto passado\n",
        "def saveToCSV(obj, csvPath):\n",
        "  df = pd.DataFrame(obj)\n",
        "  df.to_csv(csvPath + '.csv', encoding = 'utf-8', index = False, header = True)\n",
        "\n",
        "def saveToSqlite(obj, tableName, dbPath='bd.db', uniqueColumns = None):\n",
        "  try:\n",
        "    df = pd.DataFrame(obj) if not isinstance(obj, pd.DataFrame) else obj\n",
        "    with sqlite3.connect(dbPath) as con:\n",
        "      df.to_sql(tableName, con, if_exists='append', index=False)\n",
        "\n",
        "      if(uniqueColumns):\n",
        "        uniqueClause = \", \".join(uniqueColumns)\n",
        "        query = f\"\"\"\n",
        "          DELETE FROM {tableName}\n",
        "          WHERE rowid NOT IN (\n",
        "              SELECT MIN(rowid)\n",
        "              FROM {tableName}\n",
        "              GROUP BY {uniqueClause}\n",
        "          );\n",
        "          \"\"\"\n",
        "        con.execute(query)\n",
        "  except Exception as e:\n",
        "    print(f\"Erro: {e}\")"
      ],
      "metadata": {
        "id": "vy67vdQM320s"
      },
      "execution_count": 33,
      "outputs": []
    },
    {
      "cell_type": "markdown",
      "source": [
        "# Endpoints"
      ],
      "metadata": {
        "id": "-mCWX_5pFolD"
      }
    },
    {
      "cell_type": "code",
      "source": [
        "#Variaveis que serao utilizadas em todos os endpoints da marvel\n",
        "url = 'http://gateway.marvel.com/v1/public/'\n",
        "publicKey = userdata.get('publicKey')\n",
        "privateKey = userdata.get('privateKey')\n",
        "securityHash = hashToMD5(publicKey, privateKey).hexdigest()\n",
        "dbPath = userdata.get('dbPath')\n",
        "\n",
        "headers = {\n",
        "    'Accept': \"*/*\"\n",
        "}\n",
        "\n",
        "params = {\n",
        "    \"ts\": 1,\n",
        "    \"apikey\": publicKey,\n",
        "    \"hash\": securityHash,\n",
        "    \"limit\": 100\n",
        "}"
      ],
      "metadata": {
        "id": "f68pbK5Y4Qei"
      },
      "execution_count": 31,
      "outputs": []
    },
    {
      "cell_type": "markdown",
      "source": [
        "## Characters"
      ],
      "metadata": {
        "id": "-5y6PipCLnhI"
      }
    },
    {
      "cell_type": "code",
      "source": [
        "endpoint = 'characters'\n",
        "\n",
        "result = get(url, endpoint, headers, params)['data']['results']\n",
        "characters = mapper(['id', 'name'], result)\n",
        "saveToCSV(csvPath = endpoint, obj = characters)\n",
        "saveToSqlite(characters, endpoint, dbPath, ['id'])"
      ],
      "metadata": {
        "id": "XZ9oWlZjFtTm"
      },
      "execution_count": 37,
      "outputs": []
    },
    {
      "cell_type": "markdown",
      "source": [
        "## Comics"
      ],
      "metadata": {
        "id": "F_3zeM9d4AcS"
      }
    },
    {
      "cell_type": "code",
      "source": [
        "endpoint = 'comics'\n",
        "\n",
        "result = get(url, endpoint, headers, params)['data']['results']\n",
        "comics = mapper(['id', 'digitalId', 'title', 'issueNumber', 'dates', 'prices', 'resourceURI'], result)\n",
        "saveToCSV(csvPath = endpoint, obj = comics)\n",
        "saveToSqlite(comics, endpoint, dbPath, ['id'])"
      ],
      "metadata": {
        "id": "Bs5K4kmA4DY_"
      },
      "execution_count": 35,
      "outputs": []
    },
    {
      "cell_type": "markdown",
      "source": [
        "## Events"
      ],
      "metadata": {
        "id": "13NixruS4ETx"
      }
    },
    {
      "cell_type": "code",
      "source": [
        "endpoint = 'events'\n",
        "\n",
        "result = get(url, endpoint, headers, params)['data']['results']\n",
        "events = mapper(['id', 'title', 'description', 'resourceURI', 'start', 'end'], result)\n",
        "saveToCSV(csvPath = endpoint, obj = events)\n",
        "saveToSqlite(events, endpoint, dbPath, ['id'])"
      ],
      "metadata": {
        "id": "TspDAhRa4GCv"
      },
      "execution_count": 36,
      "outputs": []
    }
  ]
}