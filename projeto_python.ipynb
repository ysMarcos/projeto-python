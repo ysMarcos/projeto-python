{
  "nbformat": 4,
  "nbformat_minor": 0,
  "metadata": {
    "colab": {
      "provenance": [],
      "toc_visible": true,
      "include_colab_link": true
    },
    "kernelspec": {
      "name": "python3",
      "display_name": "Python 3"
    },
    "language_info": {
      "name": "python"
    }
  },
  "cells": [
    {
      "cell_type": "markdown",
      "metadata": {
        "id": "view-in-github",
        "colab_type": "text"
      },
      "source": [
        "<a href=\"https://colab.research.google.com/github/ysMarcos/projeto-python/blob/main/projeto_python.ipynb\" target=\"_parent\"><img src=\"https://colab.research.google.com/assets/colab-badge.svg\" alt=\"Open In Colab\"/></a>"
      ]
    },
    {
      "cell_type": "markdown",
      "source": [
        "# Imports das Bibliotecas usadas"
      ],
      "metadata": {
        "id": "GY6St0KOZp4v"
      }
    },
    {
      "cell_type": "code",
      "source": [
        "#Imports\n",
        "import requests as req\n",
        "import hashlib\n",
        "import pandas as pd\n",
        "import sqlite3\n",
        "import json\n",
        "from google.colab import userdata"
      ],
      "metadata": {
        "id": "VxYLLwgKYbIe"
      },
      "execution_count": 2,
      "outputs": []
    },
    {
      "cell_type": "markdown",
      "source": [
        "# Funções utilizadas"
      ],
      "metadata": {
        "id": "OB9QWqPZfYt5"
      }
    },
    {
      "cell_type": "code",
      "source": [
        "#Funcao responsavel para encryptografar para md5 de acordo com a documentacao da api da Marvel\n",
        "def hashToMD5(publicKey, privateKey):\n",
        "  #Valor 1 eh o timestamp de exemplo usado na documentacao\n",
        "  return hashlib.md5(str.encode(str(1) + str(privateKey) + str(publicKey)))"
      ],
      "metadata": {
        "id": "xM0etIeih_6Y"
      },
      "execution_count": 3,
      "outputs": []
    },
    {
      "cell_type": "code",
      "source": [
        "# Funcao responsavel pelas requisicoes\n",
        "def get(url: str, endpoint: str, headers: dict, params: dict):\n",
        "  try:\n",
        "    response = req.get(\n",
        "        url = url+endpoint,\n",
        "        headers = headers,\n",
        "        params = params\n",
        "      )\n",
        "    return response.json()\n",
        "  except Exception as e:\n",
        "    print(e)"
      ],
      "metadata": {
        "id": "O7xtgfs0fel8"
      },
      "execution_count": 4,
      "outputs": []
    },
    {
      "cell_type": "code",
      "source": [
        "#Funcao responsavel por mapear os dados de acordo com o input recebido\n",
        "#Este mapeador eh generico e limitado em relacao a tipagens, para a construcao de um\n",
        "#banco de dados mais complexo e corretamente tipado, seria bom uma classe para os endpoints\n",
        "#que eh implementada os metodos de ETL\n",
        "def mapper(keys, values):\n",
        "  arr = []\n",
        "  obj = {}\n",
        "  for i in range(len(values)):\n",
        "    for j in range(len(keys)):\n",
        "      #Converte Listas e Dicionarios em string\n",
        "      if isinstance(values[i][keys[j]], (list, dict)):\n",
        "        obj[keys[j]] = json.dumps(values[i][keys[j]])\n",
        "      else:\n",
        "        obj[keys[j]] = values[i][keys[j]]\n",
        "    arr.append(obj)\n",
        "    obj = {}\n",
        "  return arr"
      ],
      "metadata": {
        "id": "do0FO3qCztHA"
      },
      "execution_count": 23,
      "outputs": []
    },
    {
      "cell_type": "code",
      "source": [
        "#Funcoes responsaveis pela transformacao dos dados em um Dataframe e salvar o objeto passado\n",
        "def saveToCSV(obj, csvPath):\n",
        "  df = pd.DataFrame(obj)\n",
        "  df.to_csv(csvPath + '.csv', encoding = 'utf-8', index = False, header = True)\n",
        "\n",
        "def saveToSqlite(obj, tableName):\n",
        "  df = pd.DataFrame(obj)\n",
        "  con = sqlite3.connect('bd.db')\n",
        "  df.to_sql(tableName, con, if_exists='append', index=False)\n",
        "  #Remover as duplicatas, pode ser lento em altos volumes de dados\n",
        "  data = pd.read_sql('Select * from '+ tableName, con)\n",
        "  checkResults = pd.concat([df, data])\n",
        "  checkResults.drop_duplicates(ignore_index=True, inplace=True)\n",
        "  checkResults.to_sql(tableName, con, if_exists='replace', index=False)"
      ],
      "metadata": {
        "id": "vy67vdQM320s"
      },
      "execution_count": 6,
      "outputs": []
    },
    {
      "cell_type": "markdown",
      "source": [
        "# Endpoints"
      ],
      "metadata": {
        "id": "-mCWX_5pFolD"
      }
    },
    {
      "cell_type": "code",
      "source": [
        "#Variaveis que serao utilizadas em todos os endpoints da marvel\n",
        "url = 'http://gateway.marvel.com/v1/public/'\n",
        "publicKey = userdata.get('publicKey')\n",
        "privateKey = userdata.get('privateKey')\n",
        "securityHash = hashToMD5(publicKey, privateKey).hexdigest()\n",
        "\n",
        "headers = {\n",
        "    'Accept': \"*/*\"\n",
        "}\n",
        "\n",
        "params = {\n",
        "    \"ts\": 1,\n",
        "    \"apikey\": publicKey,\n",
        "    \"hash\": securityHash,\n",
        "    \"limit\": 100\n",
        "}"
      ],
      "metadata": {
        "id": "f68pbK5Y4Qei"
      },
      "execution_count": 21,
      "outputs": []
    },
    {
      "cell_type": "markdown",
      "source": [
        "## Characters"
      ],
      "metadata": {
        "id": "-5y6PipCLnhI"
      }
    },
    {
      "cell_type": "code",
      "source": [
        "endpoint = 'characters'\n",
        "\n",
        "result = get(url, endpoint, headers, params)['data']['results']\n",
        "characters = mapper(['id', 'name'], result)\n",
        "saveToCSV(csvPath = endpoint, obj = characters)\n",
        "saveToSqlite(characters, endpoint)"
      ],
      "metadata": {
        "id": "XZ9oWlZjFtTm"
      },
      "execution_count": 12,
      "outputs": []
    },
    {
      "cell_type": "markdown",
      "source": [
        "## Comics"
      ],
      "metadata": {
        "id": "F_3zeM9d4AcS"
      }
    },
    {
      "cell_type": "code",
      "source": [
        "endpoint = 'comics'\n",
        "\n",
        "result = get(url, endpoint, headers, params)['data']['results']\n",
        "comics = mapper(['id', 'digitalId', 'title', 'issueNumber', 'dates', 'prices', 'resourceURI'], result)\n",
        "saveToCSV(csvPath = endpoint, obj = comics)\n",
        "saveToSqlite(comics, endpoint)"
      ],
      "metadata": {
        "id": "Bs5K4kmA4DY_",
        "colab": {
          "base_uri": "https://localhost:8080/"
        },
        "outputId": "d4465090-f985-414e-fc99-491374021ba0"
      },
      "execution_count": 24,
      "outputs": [
        {
          "output_type": "stream",
          "name": "stdout",
          "text": [
            "[{'id': 82967, 'digitalId': 0, 'title': 'Marvel Previews (2017)', 'issueNumber': 0, 'dates': '[{\"type\": \"onsaleDate\", \"date\": \"2099-10-30T00:00:00-0500\"}, {\"type\": \"focDate\", \"date\": \"2019-10-07T00:00:00-0400\"}]', 'prices': '[{\"type\": \"printPrice\", \"price\": 0}]', 'resourceURI': 'http://gateway.marvel.com/v1/public/comics/82967'}, {'id': 82965, 'digitalId': 0, 'title': 'Marvel Previews (2017)', 'issueNumber': 0, 'dates': '[{\"type\": \"onsaleDate\", \"date\": \"2099-08-28T00:00:00-0500\"}, {\"type\": \"focDate\", \"date\": \"2019-08-05T00:00:00-0400\"}]', 'prices': '[{\"type\": \"printPrice\", \"price\": 0}]', 'resourceURI': 'http://gateway.marvel.com/v1/public/comics/82965'}, {'id': 82970, 'digitalId': 52952, 'title': 'Marvel Previews (2017)', 'issueNumber': 0, 'dates': '[{\"type\": \"onsaleDate\", \"date\": \"2099-01-29T00:00:00-0500\"}, {\"type\": \"focDate\", \"date\": \"2020-01-06T00:00:00-0500\"}, {\"type\": \"unlimitedDate\", \"date\": \"2020-01-29T00:00:00-0500\"}, {\"type\": \"digitalPurchaseDate\", \"date\": \"2020-01-29T00:00:00-0500\"}]', 'prices': '[{\"type\": \"printPrice\", \"price\": 0}, {\"type\": \"digitalPurchasePrice\", \"price\": 0}]', 'resourceURI': 'http://gateway.marvel.com/v1/public/comics/82970'}, {'id': 59525, 'digitalId': 0, 'title': 'The Amazing Spider-Man (2015) #15 (Panosian Mighty Men Variant)', 'issueNumber': 15, 'dates': '[{\"type\": \"onsaleDate\", \"date\": \"2029-12-31T00:00:00-0500\"}, {\"type\": \"focDate\", \"date\": \"2016-06-22T00:00:00-0400\"}]', 'prices': '[{\"type\": \"printPrice\", \"price\": 3.99}]', 'resourceURI': 'http://gateway.marvel.com/v1/public/comics/59525'}, {'id': 6181, 'digitalId': 0, 'title': 'Ultimate Spider-Man Ultimate Collection Book 1 (Trade Paperback)', 'issueNumber': 0, 'dates': '[{\"type\": \"onsaleDate\", \"date\": \"2029-12-31T00:00:00-0500\"}, {\"type\": \"focDate\", \"date\": \"1961-01-01T00:00:00-0500\"}]', 'prices': '[{\"type\": \"printPrice\", \"price\": 9.99}]', 'resourceURI': 'http://gateway.marvel.com/v1/public/comics/6181'}, {'id': 27238, 'digitalId': 0, 'title': 'Wolverine Saga (2009) #7', 'issueNumber': 7, 'dates': '[{\"type\": \"onsaleDate\", \"date\": \"2029-12-31T00:00:00-0500\"}, {\"type\": \"focDate\", \"date\": \"2009-06-11T00:00:00-0400\"}]', 'prices': '[{\"type\": \"printPrice\", \"price\": 0}]', 'resourceURI': 'http://gateway.marvel.com/v1/public/comics/27238'}, {'id': 59558, 'digitalId': 0, 'title': 'The Totally Awesome Hulk (2015) #8 (Putri Mighty Men Variant)', 'issueNumber': 8, 'dates': '[{\"type\": \"onsaleDate\", \"date\": \"2029-12-31T00:00:00-0500\"}, {\"type\": \"focDate\", \"date\": \"2016-06-29T00:00:00-0400\"}]', 'prices': '[{\"type\": \"printPrice\", \"price\": 3.99}]', 'resourceURI': 'http://gateway.marvel.com/v1/public/comics/59558'}, {'id': 1332, 'digitalId': 0, 'title': 'X-Men: Days of Future Past (Trade Paperback)', 'issueNumber': 0, 'dates': '[{\"type\": \"onsaleDate\", \"date\": \"2029-12-31T00:00:00-0500\"}, {\"type\": \"focDate\", \"date\": \"-0001-11-30T00:00:00-0500\"}]', 'prices': '[{\"type\": \"printPrice\", \"price\": 9.99}]', 'resourceURI': 'http://gateway.marvel.com/v1/public/comics/1332'}, {'id': 25320, 'digitalId': 0, 'title': 'Halo Chronicles (2009) #1', 'issueNumber': 1, 'dates': '[{\"type\": \"onsaleDate\", \"date\": \"2029-12-31T00:00:00-0500\"}, {\"type\": \"focDate\", \"date\": \"-0001-11-30T00:00:00-0500\"}]', 'prices': '[{\"type\": \"printPrice\", \"price\": 5.99}]', 'resourceURI': 'http://gateway.marvel.com/v1/public/comics/25320'}, {'id': 37505, 'digitalId': 0, 'title': 'Marvels Vol. 1 (1994) #9', 'issueNumber': 9, 'dates': '[{\"type\": \"onsaleDate\", \"date\": \"2029-12-31T00:00:00-0500\"}, {\"type\": \"focDate\", \"date\": \"-0001-11-30T00:00:00-0500\"}]', 'prices': '[{\"type\": \"printPrice\", \"price\": 0}]', 'resourceURI': 'http://gateway.marvel.com/v1/public/comics/37505'}, {'id': 59524, 'digitalId': 0, 'title': 'All-New, All-Different Avengers (2015) #12 (Kuder Mighty Men Variant)', 'issueNumber': 12, 'dates': '[{\"type\": \"onsaleDate\", \"date\": \"2029-12-31T00:00:00-0500\"}, {\"type\": \"focDate\", \"date\": \"2016-06-29T00:00:00-0400\"}]', 'prices': '[{\"type\": \"printPrice\", \"price\": 3.99}]', 'resourceURI': 'http://gateway.marvel.com/v1/public/comics/59524'}, {'id': 60017, 'digitalId': 0, 'title': 'The Amazing Spider-Man (2015) #24 (Lozano Teaser Variant)', 'issueNumber': 24, 'dates': '[{\"type\": \"onsaleDate\", \"date\": \"2029-12-31T00:00:00-0500\"}, {\"type\": \"focDate\", \"date\": \"2017-01-18T00:00:00-0500\"}]', 'prices': '[{\"type\": \"printPrice\", \"price\": 3.99}]', 'resourceURI': 'http://gateway.marvel.com/v1/public/comics/60017'}, {'id': 59927, 'digitalId': 0, 'title': 'Darth Vader (2015) #25 (Christopher Action Figure Black and White Variant)', 'issueNumber': 25, 'dates': '[{\"type\": \"onsaleDate\", \"date\": \"2029-12-31T00:00:00-0500\"}, {\"type\": \"focDate\", \"date\": \"2016-08-17T00:00:00-0400\"}]', 'prices': '[{\"type\": \"printPrice\", \"price\": 4.99}]', 'resourceURI': 'http://gateway.marvel.com/v1/public/comics/59927'}, {'id': 2088, 'digitalId': 0, 'title': 'Official Handbook of the Marvel Universe (2004) #14 (FANTASTIC FOUR)', 'issueNumber': 14, 'dates': '[{\"type\": \"onsaleDate\", \"date\": \"2029-12-31T00:00:00-0500\"}, {\"type\": \"focDate\", \"date\": \"-0001-11-30T00:00:00-0500\"}]', 'prices': '[{\"type\": \"printPrice\", \"price\": 3.99}]', 'resourceURI': 'http://gateway.marvel.com/v1/public/comics/2088'}, {'id': 59181, 'digitalId': 0, 'title': 'Civil War II (2016) #6 (Gi Connecting Variant H)', 'issueNumber': 6, 'dates': '[{\"type\": \"onsaleDate\", \"date\": \"2029-12-31T00:00:00-0500\"}, {\"type\": \"focDate\", \"date\": \"2016-08-24T00:00:00-0400\"}]', 'prices': '[{\"type\": \"printPrice\", \"price\": 4.99}]', 'resourceURI': 'http://gateway.marvel.com/v1/public/comics/59181'}, {'id': 59754, 'digitalId': 0, 'title': 'Civil War II (2016) #6 (Sprouse Battle Variant)', 'issueNumber': 6, 'dates': '[{\"type\": \"onsaleDate\", \"date\": \"2029-12-31T00:00:00-0500\"}, {\"type\": \"focDate\", \"date\": \"2016-08-24T00:00:00-0400\"}]', 'prices': '[{\"type\": \"printPrice\", \"price\": 4.99}]', 'resourceURI': 'http://gateway.marvel.com/v1/public/comics/59754'}, {'id': 59557, 'digitalId': 0, 'title': 'The Astonishing Ant-Man (2015) #10 (Bagley Mighty Men Variant)', 'issueNumber': 10, 'dates': '[{\"type\": \"onsaleDate\", \"date\": \"2029-12-31T00:00:00-0500\"}, {\"type\": \"focDate\", \"date\": \"2016-07-05T00:00:00-0400\"}]', 'prices': '[{\"type\": \"printPrice\", \"price\": 3.99}]', 'resourceURI': 'http://gateway.marvel.com/v1/public/comics/59557'}, {'id': 37530, 'digitalId': 0, 'title': 'Magician: Apprentice Riftwar Saga (2010) #14', 'issueNumber': 14, 'dates': '[{\"type\": \"onsaleDate\", \"date\": \"2029-12-31T00:00:00-0500\"}, {\"type\": \"focDate\", \"date\": \"-0001-11-30T00:00:00-0500\"}]', 'prices': '[{\"type\": \"printPrice\", \"price\": 0}]', 'resourceURI': 'http://gateway.marvel.com/v1/public/comics/37530'}, {'id': 37302, 'digitalId': 0, 'title': 'Marvel Adventures Super Heroes Special (2010) #1', 'issueNumber': 1, 'dates': '[{\"type\": \"onsaleDate\", \"date\": \"2029-12-31T00:00:00-0500\"}, {\"type\": \"focDate\", \"date\": \"-0001-11-30T00:00:00-0500\"}]', 'prices': '[{\"type\": \"printPrice\", \"price\": 0}]', 'resourceURI': 'http://gateway.marvel.com/v1/public/comics/37302'}, {'id': 58586, 'digitalId': 0, 'title': 'The Amazing Spider-Man (2015) #19 (Veregge Black Panther 50th Anniversary Variant)', 'issueNumber': 19, 'dates': '[{\"type\": \"onsaleDate\", \"date\": \"2029-12-31T00:00:00-0500\"}, {\"type\": \"focDate\", \"date\": \"2016-10-05T00:00:00-0400\"}]', 'prices': '[{\"type\": \"printPrice\", \"price\": 4.99}]', 'resourceURI': 'http://gateway.marvel.com/v1/public/comics/58586'}, {'id': 15878, 'digitalId': 0, 'title': 'Hedge Knight II: Sworn Sword (2007) #1 (Yu Variant)', 'issueNumber': 1, 'dates': '[{\"type\": \"onsaleDate\", \"date\": \"2029-12-31T00:00:00-0500\"}, {\"type\": \"focDate\", \"date\": \"-0001-11-30T00:00:00-0500\"}]', 'prices': '[{\"type\": \"printPrice\", \"price\": 0}]', 'resourceURI': 'http://gateway.marvel.com/v1/public/comics/15878'}, {'id': 20956, 'digitalId': 0, 'title': 'Penance: Relentless (2008)', 'issueNumber': 0, 'dates': '[{\"type\": \"onsaleDate\", \"date\": \"2029-12-31T00:00:00-0500\"}, {\"type\": \"focDate\", \"date\": \"-0001-11-30T00:00:00-0500\"}]', 'prices': '[{\"type\": \"printPrice\", \"price\": 0}]', 'resourceURI': 'http://gateway.marvel.com/v1/public/comics/20956'}, {'id': 37507, 'digitalId': 0, 'title': 'Official Marvel Universe Handbook (2009) #1', 'issueNumber': 1, 'dates': '[{\"type\": \"onsaleDate\", \"date\": \"2029-12-31T00:00:00-0500\"}, {\"type\": \"focDate\", \"date\": \"-0001-11-30T00:00:00-0500\"}]', 'prices': '[{\"type\": \"printPrice\", \"price\": 0}]', 'resourceURI': 'http://gateway.marvel.com/v1/public/comics/37507'}, {'id': 37502, 'digitalId': 0, 'title': 'Marvels Vol. 1 (1994) #5', 'issueNumber': 5, 'dates': '[{\"type\": \"onsaleDate\", \"date\": \"2029-12-31T00:00:00-0500\"}, {\"type\": \"focDate\", \"date\": \"-0001-11-30T00:00:00-0500\"}]', 'prices': '[{\"type\": \"printPrice\", \"price\": 0}]', 'resourceURI': 'http://gateway.marvel.com/v1/public/comics/37502'}, {'id': 1158, 'digitalId': 0, 'title': 'ULTIMATE X-MEN VOL. 5: ULTIMATE WAR TPB (Trade Paperback)', 'issueNumber': 0, 'dates': '[{\"type\": \"onsaleDate\", \"date\": \"2029-12-31T00:00:00-0500\"}, {\"type\": \"focDate\", \"date\": \"1961-01-01T00:00:00-0500\"}]', 'prices': '[{\"type\": \"printPrice\", \"price\": 9.99}]', 'resourceURI': 'http://gateway.marvel.com/v1/public/comics/1158'}, {'id': 37529, 'digitalId': 0, 'title': 'Magician: Apprentice Riftwar Saga (2010) #13', 'issueNumber': 13, 'dates': '[{\"type\": \"onsaleDate\", \"date\": \"2029-12-31T00:00:00-0500\"}, {\"type\": \"focDate\", \"date\": \"-0001-11-30T00:00:00-0500\"}]', 'prices': '[{\"type\": \"printPrice\", \"price\": 0}]', 'resourceURI': 'http://gateway.marvel.com/v1/public/comics/37529'}, {'id': 37376, 'digitalId': 0, 'title': 'Punishermax: Kingpin (2010)', 'issueNumber': 0, 'dates': '[{\"type\": \"onsaleDate\", \"date\": \"2029-12-31T00:00:00-0500\"}, {\"type\": \"focDate\", \"date\": \"2010-09-09T00:00:00-0400\"}]', 'prices': '[{\"type\": \"printPrice\", \"price\": 0}]', 'resourceURI': 'http://gateway.marvel.com/v1/public/comics/37376'}, {'id': 428, 'digitalId': 0, 'title': 'Ant-Man (2003) #4', 'issueNumber': 4, 'dates': '[{\"type\": \"onsaleDate\", \"date\": \"2029-12-31T00:00:00-0500\"}, {\"type\": \"focDate\", \"date\": \"-0001-11-30T00:00:00-0500\"}]', 'prices': '[{\"type\": \"printPrice\", \"price\": 2.99}]', 'resourceURI': 'http://gateway.marvel.com/v1/public/comics/428'}, {'id': 25582, 'digitalId': 0, 'title': 'Kabuki Reflections Vol. 1 (Hardcover)', 'issueNumber': 0, 'dates': '[{\"type\": \"onsaleDate\", \"date\": \"2029-12-31T00:00:00-0500\"}, {\"type\": \"focDate\", \"date\": \"2010-01-07T00:00:00-0500\"}]', 'prices': '[{\"type\": \"printPrice\", \"price\": 39.99}]', 'resourceURI': 'http://gateway.marvel.com/v1/public/comics/25582'}, {'id': 3627, 'digitalId': 0, 'title': 'Storm (2006)', 'issueNumber': 0, 'dates': '[{\"type\": \"onsaleDate\", \"date\": \"2029-12-31T00:00:00-0500\"}, {\"type\": \"focDate\", \"date\": \"-0001-11-30T00:00:00-0500\"}]', 'prices': '[{\"type\": \"printPrice\", \"price\": 0}]', 'resourceURI': 'http://gateway.marvel.com/v1/public/comics/3627'}, {'id': 88924, 'digitalId': 54635, 'title': 'Morbius (2019) #6', 'issueNumber': 6, 'dates': '[{\"type\": \"onsaleDate\", \"date\": \"2029-12-31T00:00:00-0500\"}, {\"type\": \"focDate\", \"date\": \"2029-12-08T00:00:00-0500\"}, {\"type\": \"unlimitedDate\", \"date\": \"2023-05-24T11:14:00-0400\"}, {\"type\": \"digitalPurchaseDate\", \"date\": \"2023-05-24T11:14:00-0400\"}]', 'prices': '[{\"type\": \"printPrice\", \"price\": 3.99}]', 'resourceURI': 'http://gateway.marvel.com/v1/public/comics/88924'}, {'id': 25856, 'digitalId': 0, 'title': 'MARVEL MASTERWORKS: THE UNCANNY X-MEN VOL. 3 HC (Trade Paperback)', 'issueNumber': 0, 'dates': '[{\"type\": \"onsaleDate\", \"date\": \"2029-12-31T00:00:00-0500\"}, {\"type\": \"focDate\", \"date\": \"2009-11-05T00:00:00-0500\"}]', 'prices': '[{\"type\": \"printPrice\", \"price\": 24.99}]', 'resourceURI': 'http://gateway.marvel.com/v1/public/comics/25856'}, {'id': 1994, 'digitalId': 0, 'title': 'Official Handbook of the Marvel Universe (2004) #13 (TEAMS)', 'issueNumber': 13, 'dates': '[{\"type\": \"onsaleDate\", \"date\": \"2029-12-31T00:00:00-0500\"}, {\"type\": \"focDate\", \"date\": \"-0001-11-30T00:00:00-0500\"}]', 'prices': '[{\"type\": \"printPrice\", \"price\": 3.99}]', 'resourceURI': 'http://gateway.marvel.com/v1/public/comics/1994'}, {'id': 60015, 'digitalId': 0, 'title': 'The Amazing Spider-Man (2015) #22 (Lozano Teaser Variant)', 'issueNumber': 22, 'dates': '[{\"type\": \"onsaleDate\", \"date\": \"2029-12-31T00:00:00-0500\"}, {\"type\": \"focDate\", \"date\": \"2016-12-07T00:00:00-0500\"}]', 'prices': '[{\"type\": \"printPrice\", \"price\": 3.99}]', 'resourceURI': 'http://gateway.marvel.com/v1/public/comics/60015'}, {'id': 384, 'digitalId': 0, 'title': 'Gun Theory (2003) #3', 'issueNumber': 3, 'dates': '[{\"type\": \"onsaleDate\", \"date\": \"2029-12-31T00:00:00-0500\"}, {\"type\": \"focDate\", \"date\": \"-0001-11-30T00:00:00-0500\"}]', 'prices': '[{\"type\": \"printPrice\", \"price\": 2.5}]', 'resourceURI': 'http://gateway.marvel.com/v1/public/comics/384'}, {'id': 1689, 'digitalId': 0, 'title': 'Official Handbook of the Marvel Universe (2004) #10 (MARVEL KNIGHTS)', 'issueNumber': 10, 'dates': '[{\"type\": \"onsaleDate\", \"date\": \"2029-12-31T00:00:00-0500\"}, {\"type\": \"focDate\", \"date\": \"-0001-11-30T00:00:00-0500\"}]', 'prices': '[{\"type\": \"printPrice\", \"price\": 3.99}]', 'resourceURI': 'http://gateway.marvel.com/v1/public/comics/1689'}, {'id': 323, 'digitalId': 0, 'title': 'Ant-Man (2003) #2', 'issueNumber': 2, 'dates': '[{\"type\": \"onsaleDate\", \"date\": \"2029-12-31T00:00:00-0500\"}, {\"type\": \"focDate\", \"date\": \"-0001-11-30T00:00:00-0500\"}]', 'prices': '[{\"type\": \"printPrice\", \"price\": 2.99}]', 'resourceURI': 'http://gateway.marvel.com/v1/public/comics/323'}, {'id': 59739, 'digitalId': 0, 'title': 'Civil War II: Kingpin (2016) #1 (Noto Character Variant)', 'issueNumber': 1, 'dates': '[{\"type\": \"onsaleDate\", \"date\": \"2029-12-31T00:00:00-0500\"}, {\"type\": \"focDate\", \"date\": \"2016-06-22T00:00:00-0400\"}]', 'prices': '[{\"type\": \"printPrice\", \"price\": 3.99}]', 'resourceURI': 'http://gateway.marvel.com/v1/public/comics/59739'}, {'id': 1308, 'digitalId': 0, 'title': 'Marvel Age Spider-Man Vol. 2: Everyday Hero (Digest)', 'issueNumber': 0, 'dates': '[{\"type\": \"onsaleDate\", \"date\": \"2029-12-31T00:00:00-0500\"}, {\"type\": \"focDate\", \"date\": \"-0001-11-30T00:00:00-0500\"}]', 'prices': '[{\"type\": \"printPrice\", \"price\": 5.99}]', 'resourceURI': 'http://gateway.marvel.com/v1/public/comics/1308'}, {'id': 37508, 'digitalId': 0, 'title': 'Official Marvel Universe Handbook (2009) #2', 'issueNumber': 2, 'dates': '[{\"type\": \"onsaleDate\", \"date\": \"2029-12-31T00:00:00-0500\"}, {\"type\": \"focDate\", \"date\": \"-0001-11-30T00:00:00-0500\"}]', 'prices': '[{\"type\": \"printPrice\", \"price\": 0}]', 'resourceURI': 'http://gateway.marvel.com/v1/public/comics/37508'}, {'id': 1220, 'digitalId': 0, 'title': 'Amazing Spider-Man 500 Covers Slipcase - Book II (Trade Paperback)', 'issueNumber': 0, 'dates': '[{\"type\": \"onsaleDate\", \"date\": \"2029-12-31T00:00:00-0500\"}, {\"type\": \"focDate\", \"date\": \"-0001-11-30T00:00:00-0500\"}]', 'prices': '[{\"type\": \"printPrice\", \"price\": 0}]', 'resourceURI': 'http://gateway.marvel.com/v1/public/comics/1220'}, {'id': 59551, 'digitalId': 0, 'title': 'Spider-Man (2016) #6 (Anka Mighty Men Variant)', 'issueNumber': 6, 'dates': '[{\"type\": \"onsaleDate\", \"date\": \"2029-12-31T00:00:00-0500\"}, {\"type\": \"focDate\", \"date\": \"2016-07-13T00:00:00-0400\"}]', 'prices': '[{\"type\": \"printPrice\", \"price\": 3.99}]', 'resourceURI': 'http://gateway.marvel.com/v1/public/comics/59551'}, {'id': 1886, 'digitalId': 0, 'title': 'Official Handbook of the Marvel Universe (2004) #12 (SPIDER-MAN)', 'issueNumber': 12, 'dates': '[{\"type\": \"onsaleDate\", \"date\": \"2029-12-31T00:00:00-0500\"}, {\"type\": \"focDate\", \"date\": \"-0001-11-30T00:00:00-0500\"}]', 'prices': '[{\"type\": \"printPrice\", \"price\": 3.99}]', 'resourceURI': 'http://gateway.marvel.com/v1/public/comics/1886'}, {'id': 58584, 'digitalId': 0, 'title': 'The Amazing Spider-Man (2015) #16 (Jimenez Black Panther 50th Anniversary Variant)', 'issueNumber': 16, 'dates': '[{\"type\": \"onsaleDate\", \"date\": \"2029-12-31T00:00:00-0500\"}, {\"type\": \"focDate\", \"date\": \"2016-07-20T00:00:00-0400\"}]', 'prices': '[{\"type\": \"printPrice\", \"price\": 3.99}]', 'resourceURI': 'http://gateway.marvel.com/v1/public/comics/58584'}, {'id': 59533, 'digitalId': 0, 'title': 'Captain America: Steve Rogers (2016) #3 (Hans Mighty Men Variant)', 'issueNumber': 3, 'dates': '[{\"type\": \"onsaleDate\", \"date\": \"2029-12-31T00:00:00-0500\"}, {\"type\": \"focDate\", \"date\": \"2016-07-13T00:00:00-0400\"}]', 'prices': '[{\"type\": \"printPrice\", \"price\": 3.99}]', 'resourceURI': 'http://gateway.marvel.com/v1/public/comics/59533'}, {'id': 59555, 'digitalId': 0, 'title': 'Squadron Supreme (2015) #9 (Frison Mighty Men Variant)', 'issueNumber': 9, 'dates': '[{\"type\": \"onsaleDate\", \"date\": \"2029-12-31T00:00:00-0500\"}, {\"type\": \"focDate\", \"date\": \"2016-07-05T00:00:00-0400\"}]', 'prices': '[{\"type\": \"printPrice\", \"price\": 4.99}]', 'resourceURI': 'http://gateway.marvel.com/v1/public/comics/59555'}, {'id': 27649, 'digitalId': 0, 'title': 'Incredible Hulks (2010) #604 (DJURDJEVIC 70TH ANNIVERSARY VARIANT)', 'issueNumber': 604, 'dates': '[{\"type\": \"onsaleDate\", \"date\": \"2029-12-31T00:00:00-0500\"}, {\"type\": \"focDate\", \"date\": \"2009-10-29T00:00:00-0400\"}]', 'prices': '[{\"type\": \"printPrice\", \"price\": 3.99}]', 'resourceURI': 'http://gateway.marvel.com/v1/public/comics/27649'}, {'id': 376, 'digitalId': 0, 'title': 'Ant-Man (2003) #3', 'issueNumber': 3, 'dates': '[{\"type\": \"onsaleDate\", \"date\": \"2029-12-31T00:00:00-0500\"}, {\"type\": \"focDate\", \"date\": \"-0001-11-30T00:00:00-0500\"}]', 'prices': '[{\"type\": \"printPrice\", \"price\": 2.99}]', 'resourceURI': 'http://gateway.marvel.com/v1/public/comics/376'}, {'id': 37533, 'digitalId': 0, 'title': 'Magician: Apprentice Riftwar Saga (2010) #16', 'issueNumber': 16, 'dates': '[{\"type\": \"onsaleDate\", \"date\": \"2029-12-31T00:00:00-0500\"}, {\"type\": \"focDate\", \"date\": \"-0001-11-30T00:00:00-0500\"}]', 'prices': '[{\"type\": \"printPrice\", \"price\": 0}]', 'resourceURI': 'http://gateway.marvel.com/v1/public/comics/37533'}, {'id': 5813, 'digitalId': 0, 'title': 'Marvel Milestones (2005) #22', 'issueNumber': 22, 'dates': '[{\"type\": \"onsaleDate\", \"date\": \"2029-12-31T00:00:00-0500\"}, {\"type\": \"focDate\", \"date\": \"-0001-11-30T00:00:00-0500\"}]', 'prices': '[{\"type\": \"printPrice\", \"price\": 3.99}]', 'resourceURI': 'http://gateway.marvel.com/v1/public/comics/5813'}, {'id': 1749, 'digitalId': 0, 'title': 'Official Handbook of the Marvel Universe (2004) #11 (X-MEN - AGE OF APOCALYPSE)', 'issueNumber': 11, 'dates': '[{\"type\": \"onsaleDate\", \"date\": \"2029-12-31T00:00:00-0500\"}, {\"type\": \"focDate\", \"date\": \"-0001-11-30T00:00:00-0500\"}]', 'prices': '[{\"type\": \"printPrice\", \"price\": 3.99}]', 'resourceURI': 'http://gateway.marvel.com/v1/public/comics/1749'}, {'id': 1590, 'digitalId': 0, 'title': 'Official Handbook of the Marvel Universe (2004) #9 (THE WOMEN OF MARVEL)', 'issueNumber': 9, 'dates': '[{\"type\": \"onsaleDate\", \"date\": \"2029-12-31T00:00:00-0500\"}, {\"type\": \"focDate\", \"date\": \"-0001-11-30T00:00:00-0500\"}]', 'prices': '[{\"type\": \"printPrice\", \"price\": 3.99}]', 'resourceURI': 'http://gateway.marvel.com/v1/public/comics/1590'}, {'id': 59543, 'digitalId': 0, 'title': 'Invincible Iron Man (2015) #11 (Keown Mighty Men Variant)', 'issueNumber': 11, 'dates': '[{\"type\": \"onsaleDate\", \"date\": \"2029-12-31T00:00:00-0500\"}, {\"type\": \"focDate\", \"date\": \"2016-06-22T00:00:00-0400\"}]', 'prices': '[{\"type\": \"printPrice\", \"price\": 3.99}]', 'resourceURI': 'http://gateway.marvel.com/v1/public/comics/59543'}, {'id': 59527, 'digitalId': 0, 'title': 'Black Panther (2016) #4 (Anacleto Mighty Men Variant)', 'issueNumber': 4, 'dates': '[{\"type\": \"onsaleDate\", \"date\": \"2029-12-31T00:00:00-0500\"}, {\"type\": \"focDate\", \"date\": \"2016-07-06T00:00:00-0400\"}]', 'prices': '[{\"type\": \"printPrice\", \"price\": 3.99}]', 'resourceURI': 'http://gateway.marvel.com/v1/public/comics/59527'}, {'id': 38041, 'digitalId': 0, 'title': 'X-Men (2010)', 'issueNumber': 0, 'dates': '[{\"type\": \"onsaleDate\", \"date\": \"2029-12-31T00:00:00-0500\"}, {\"type\": \"focDate\", \"date\": \"-0001-11-30T00:00:00-0500\"}]', 'prices': '[{\"type\": \"printPrice\", \"price\": 0}]', 'resourceURI': 'http://gateway.marvel.com/v1/public/comics/38041'}, {'id': 38002, 'digitalId': 0, 'title': 'X-Men: Fall Of The Mutants (2010)', 'issueNumber': 0, 'dates': '[{\"type\": \"onsaleDate\", \"date\": \"2029-12-31T00:00:00-0500\"}, {\"type\": \"focDate\", \"date\": \"2010-11-11T00:00:00-0500\"}]', 'prices': '[{\"type\": \"printPrice\", \"price\": 0}]', 'resourceURI': 'http://gateway.marvel.com/v1/public/comics/38002'}, {'id': 59539, 'digitalId': 0, 'title': 'Doctor Strange (2015) #10 (Henderson Mighty Men Variant)', 'issueNumber': 10, 'dates': '[{\"type\": \"onsaleDate\", \"date\": \"2029-12-31T00:00:00-0500\"}, {\"type\": \"focDate\", \"date\": \"2016-07-13T00:00:00-0400\"}]', 'prices': '[{\"type\": \"printPrice\", \"price\": 3.99}]', 'resourceURI': 'http://gateway.marvel.com/v1/public/comics/59539'}, {'id': 21171, 'digitalId': 0, 'title': 'Amazing Spider-Man (1999) #558 (Turner Variant)', 'issueNumber': 558, 'dates': '[{\"type\": \"onsaleDate\", \"date\": \"2029-12-31T00:00:00-0500\"}, {\"type\": \"focDate\", \"date\": \"-0001-11-30T00:00:00-0500\"}]', 'prices': '[{\"type\": \"printPrice\", \"price\": 2.99}]', 'resourceURI': 'http://gateway.marvel.com/v1/public/comics/21171'}, {'id': 23561, 'digitalId': 0, 'title': 'Holiday Special (1969) #1', 'issueNumber': 1, 'dates': '[{\"type\": \"onsaleDate\", \"date\": \"2029-12-31T00:00:00-0500\"}, {\"type\": \"focDate\", \"date\": \"-0001-11-30T00:00:00-0500\"}]', 'prices': '[{\"type\": \"printPrice\", \"price\": 0}]', 'resourceURI': 'http://gateway.marvel.com/v1/public/comics/23561'}, {'id': 37499, 'digitalId': 0, 'title': 'Marvels Vol. 1 (1994) #3', 'issueNumber': 3, 'dates': '[{\"type\": \"onsaleDate\", \"date\": \"2029-12-31T00:00:00-0500\"}, {\"type\": \"focDate\", \"date\": \"-0001-11-30T00:00:00-0500\"}]', 'prices': '[{\"type\": \"printPrice\", \"price\": 0}]', 'resourceURI': 'http://gateway.marvel.com/v1/public/comics/37499'}, {'id': 37503, 'digitalId': 0, 'title': 'Marvels Vol. 1 (1994) #8', 'issueNumber': 8, 'dates': '[{\"type\": \"onsaleDate\", \"date\": \"2029-12-31T00:00:00-0500\"}, {\"type\": \"focDate\", \"date\": \"-0001-11-30T00:00:00-0500\"}]', 'prices': '[{\"type\": \"printPrice\", \"price\": 0}]', 'resourceURI': 'http://gateway.marvel.com/v1/public/comics/37503'}, {'id': 15808, 'digitalId': 8701, 'title': 'Ultimate Spider-Man (2000) #110 (Mark Bagley Variant)', 'issueNumber': 110, 'dates': '[{\"type\": \"onsaleDate\", \"date\": \"2029-12-31T00:00:00-0500\"}, {\"type\": \"focDate\", \"date\": \"-0001-11-30T00:00:00-0500\"}, {\"type\": \"unlimitedDate\", \"date\": \"2007-04-28T00:00:00-0400\"}, {\"type\": \"digitalPurchaseDate\", \"date\": \"2011-10-25T00:00:00-0400\"}]', 'prices': '[{\"type\": \"printPrice\", \"price\": 2.99}, {\"type\": \"digitalPurchasePrice\", \"price\": 1.99}]', 'resourceURI': 'http://gateway.marvel.com/v1/public/comics/15808'}, {'id': 37497, 'digitalId': 0, 'title': 'Marvels Vol. 1 (1994) #1', 'issueNumber': 1, 'dates': '[{\"type\": \"onsaleDate\", \"date\": \"2029-12-31T00:00:00-0500\"}, {\"type\": \"focDate\", \"date\": \"-0001-11-30T00:00:00-0500\"}]', 'prices': '[{\"type\": \"printPrice\", \"price\": 0}]', 'resourceURI': 'http://gateway.marvel.com/v1/public/comics/37497'}, {'id': 59559, 'digitalId': 0, 'title': 'Uncanny Avengers (2015) #11 (Hetrick Mighty Men Variant)', 'issueNumber': 11, 'dates': '[{\"type\": \"onsaleDate\", \"date\": \"2029-12-31T00:00:00-0500\"}, {\"type\": \"focDate\", \"date\": \"2016-06-29T00:00:00-0400\"}]', 'prices': '[{\"type\": \"printPrice\", \"price\": 3.99}]', 'resourceURI': 'http://gateway.marvel.com/v1/public/comics/59559'}, {'id': 61137, 'digitalId': 0, 'title': 'The Punisher (2016) #5 (Cosplay Variant)', 'issueNumber': 5, 'dates': '[{\"type\": \"onsaleDate\", \"date\": \"2029-12-31T00:00:00-0500\"}, {\"type\": \"focDate\", \"date\": \"2016-08-23T00:00:00-0400\"}]', 'prices': '[{\"type\": \"printPrice\", \"price\": 3.99}]', 'resourceURI': 'http://gateway.marvel.com/v1/public/comics/61137'}, {'id': 25321, 'digitalId': 0, 'title': 'Halo Chronicles (2009) #2', 'issueNumber': 2, 'dates': '[{\"type\": \"onsaleDate\", \"date\": \"2029-12-31T00:00:00-0500\"}, {\"type\": \"focDate\", \"date\": \"-0001-11-30T00:00:00-0500\"}]', 'prices': '[{\"type\": \"printPrice\", \"price\": 5.99}]', 'resourceURI': 'http://gateway.marvel.com/v1/public/comics/25321'}, {'id': 291, 'digitalId': 0, 'title': 'Ant-Man (2003) #1', 'issueNumber': 1, 'dates': '[{\"type\": \"onsaleDate\", \"date\": \"2029-12-31T00:00:00-0500\"}, {\"type\": \"focDate\", \"date\": \"-0001-11-30T00:00:00-0500\"}]', 'prices': '[{\"type\": \"printPrice\", \"price\": 2.99}]', 'resourceURI': 'http://gateway.marvel.com/v1/public/comics/291'}, {'id': 58726, 'digitalId': 0, 'title': 'Haunted Mansion (2016) #5 (Young Variant)', 'issueNumber': 5, 'dates': '[{\"type\": \"onsaleDate\", \"date\": \"2029-12-31T00:00:00-0500\"}, {\"type\": \"focDate\", \"date\": \"2016-06-22T00:00:00-0400\"}]', 'prices': '[{\"type\": \"printPrice\", \"price\": 3.99}]', 'resourceURI': 'http://gateway.marvel.com/v1/public/comics/58726'}, {'id': 15094, 'digitalId': 0, 'title': 'Silver Surfer (1987)', 'issueNumber': 0, 'dates': '[{\"type\": \"onsaleDate\", \"date\": \"2029-12-31T00:00:00-0500\"}, {\"type\": \"focDate\", \"date\": \"-0001-11-30T00:00:00-0500\"}]', 'prices': '[{\"type\": \"printPrice\", \"price\": 0}]', 'resourceURI': 'http://gateway.marvel.com/v1/public/comics/15094'}, {'id': 38008, 'digitalId': 0, 'title': 'Incredible Hulks: Dark Son (2010)', 'issueNumber': 0, 'dates': '[{\"type\": \"onsaleDate\", \"date\": \"2029-12-31T00:00:00-0500\"}, {\"type\": \"focDate\", \"date\": \"2011-01-11T00:00:00-0500\"}]', 'prices': '[{\"type\": \"printPrice\", \"price\": 0}]', 'resourceURI': 'http://gateway.marvel.com/v1/public/comics/38008'}, {'id': 37500, 'digitalId': 0, 'title': 'Marvels Vol. 1 (1994) #4', 'issueNumber': 4, 'dates': '[{\"type\": \"onsaleDate\", \"date\": \"2029-12-31T00:00:00-0500\"}, {\"type\": \"focDate\", \"date\": \"-0001-11-30T00:00:00-0500\"}]', 'prices': '[{\"type\": \"printPrice\", \"price\": 0}]', 'resourceURI': 'http://gateway.marvel.com/v1/public/comics/37500'}, {'id': 37504, 'digitalId': 0, 'title': 'Marvels Vol. 1 (1994) #7', 'issueNumber': 7, 'dates': '[{\"type\": \"onsaleDate\", \"date\": \"2029-12-31T00:00:00-0500\"}, {\"type\": \"focDate\", \"date\": \"-0001-11-30T00:00:00-0500\"}]', 'prices': '[{\"type\": \"printPrice\", \"price\": 0}]', 'resourceURI': 'http://gateway.marvel.com/v1/public/comics/37504'}, {'id': 37534, 'digitalId': 0, 'title': 'Magician: Apprentice Riftwar Saga (2010) #17', 'issueNumber': 17, 'dates': '[{\"type\": \"onsaleDate\", \"date\": \"2029-12-31T00:00:00-0500\"}, {\"type\": \"focDate\", \"date\": \"-0001-11-30T00:00:00-0500\"}]', 'prices': '[{\"type\": \"printPrice\", \"price\": 0}]', 'resourceURI': 'http://gateway.marvel.com/v1/public/comics/37534'}, {'id': 58587, 'digitalId': 0, 'title': 'The Amazing Spider-Man (2015) #21 (Rivera Variant)', 'issueNumber': 21, 'dates': '[{\"type\": \"onsaleDate\", \"date\": \"2029-12-31T00:00:00-0500\"}, {\"type\": \"focDate\", \"date\": \"2016-11-02T00:00:00-0400\"}]', 'prices': '[{\"type\": \"printPrice\", \"price\": 3.99}]', 'resourceURI': 'http://gateway.marvel.com/v1/public/comics/58587'}, {'id': 331, 'digitalId': 0, 'title': 'Gun Theory (2003) #4', 'issueNumber': 4, 'dates': '[{\"type\": \"onsaleDate\", \"date\": \"2029-12-31T00:00:00-0500\"}, {\"type\": \"focDate\", \"date\": \"-0001-11-30T00:00:00-0500\"}]', 'prices': '[{\"type\": \"printPrice\", \"price\": 2.5}]', 'resourceURI': 'http://gateway.marvel.com/v1/public/comics/331'}, {'id': 22582, 'digitalId': 0, 'title': 'Civil War (Hardcover)', 'issueNumber': 0, 'dates': '[{\"type\": \"onsaleDate\", \"date\": \"2029-12-31T00:00:00-0500\"}, {\"type\": \"focDate\", \"date\": \"2008-10-09T00:00:00-0400\"}]', 'prices': '[{\"type\": \"printPrice\", \"price\": 39.99}]', 'resourceURI': 'http://gateway.marvel.com/v1/public/comics/22582'}, {'id': 1003, 'digitalId': 0, 'title': 'Sentry, the (Trade Paperback)', 'issueNumber': 0, 'dates': '[{\"type\": \"onsaleDate\", \"date\": \"2029-12-31T00:00:00-0500\"}, {\"type\": \"focDate\", \"date\": \"-0001-11-30T00:00:00-0500\"}]', 'prices': '[{\"type\": \"printPrice\", \"price\": 9.99}]', 'resourceURI': 'http://gateway.marvel.com/v1/public/comics/1003'}, {'id': 37501, 'digitalId': 0, 'title': 'Marvels Vol. 1 (1994) #6', 'issueNumber': 6, 'dates': '[{\"type\": \"onsaleDate\", \"date\": \"2029-12-31T00:00:00-0500\"}, {\"type\": \"focDate\", \"date\": \"-0001-11-30T00:00:00-0500\"}]', 'prices': '[{\"type\": \"printPrice\", \"price\": 0}]', 'resourceURI': 'http://gateway.marvel.com/v1/public/comics/37501'}, {'id': 183, 'digitalId': 0, 'title': 'Startling Stories: The Incorrigible Hulk (2004) #1', 'issueNumber': 1, 'dates': '[{\"type\": \"onsaleDate\", \"date\": \"2029-12-31T00:00:00-0500\"}, {\"type\": \"focDate\", \"date\": \"-0001-11-30T00:00:00-0500\"}]', 'prices': '[{\"type\": \"printPrice\", \"price\": 2.99}]', 'resourceURI': 'http://gateway.marvel.com/v1/public/comics/183'}, {'id': 26620, 'digitalId': 0, 'title': 'The Stand: American Nightmares HC (Hardcover)', 'issueNumber': 0, 'dates': '[{\"type\": \"onsaleDate\", \"date\": \"2029-12-31T00:00:00-0500\"}, {\"type\": \"focDate\", \"date\": \"2009-10-08T00:00:00-0400\"}]', 'prices': '[{\"type\": \"printPrice\", \"price\": 24.99}]', 'resourceURI': 'http://gateway.marvel.com/v1/public/comics/26620'}, {'id': 37531, 'digitalId': 0, 'title': 'Magician: Apprentice Riftwar Saga (2010) #15', 'issueNumber': 15, 'dates': '[{\"type\": \"onsaleDate\", \"date\": \"2029-12-31T00:00:00-0500\"}, {\"type\": \"focDate\", \"date\": \"-0001-11-30T00:00:00-0500\"}]', 'prices': '[{\"type\": \"printPrice\", \"price\": 0}]', 'resourceURI': 'http://gateway.marvel.com/v1/public/comics/37531'}, {'id': 59560, 'digitalId': 0, 'title': 'Uncanny Inhumans (2015) #12 (Land Mighty Men Variant)', 'issueNumber': 12, 'dates': '[{\"type\": \"onsaleDate\", \"date\": \"2029-12-31T00:00:00-0500\"}, {\"type\": \"focDate\", \"date\": \"2016-07-06T00:00:00-0400\"}]', 'prices': '[{\"type\": \"printPrice\", \"price\": 3.99}]', 'resourceURI': 'http://gateway.marvel.com/v1/public/comics/59560'}, {'id': 17486, 'digitalId': 0, 'title': 'X-Men: Phoenix - Warsong (2006)', 'issueNumber': 0, 'dates': '[{\"type\": \"onsaleDate\", \"date\": \"2029-12-31T00:00:00-0500\"}, {\"type\": \"focDate\", \"date\": \"-0001-11-30T00:00:00-0500\"}]', 'prices': '[{\"type\": \"printPrice\", \"price\": 0}]', 'resourceURI': 'http://gateway.marvel.com/v1/public/comics/17486'}, {'id': 59548, 'digitalId': 0, 'title': 'Old Man Logan (2016) #8 (Albuquerque Mighty Men Variant)', 'issueNumber': 8, 'dates': '[{\"type\": \"onsaleDate\", \"date\": \"2029-12-31T00:00:00-0500\"}, {\"type\": \"focDate\", \"date\": \"2016-06-29T00:00:00-0400\"}]', 'prices': '[{\"type\": \"printPrice\", \"price\": 3.99}]', 'resourceURI': 'http://gateway.marvel.com/v1/public/comics/59548'}, {'id': 78701, 'digitalId': 54636, 'title': 'Nebula (2020) #3', 'issueNumber': 3, 'dates': '[{\"type\": \"onsaleDate\", \"date\": \"2029-12-26T00:00:00-0500\"}, {\"type\": \"focDate\", \"date\": \"-0001-11-30T00:00:00-0500\"}, {\"type\": \"unlimitedDate\", \"date\": \"2020-10-12T00:00:00-0400\"}, {\"type\": \"digitalPurchaseDate\", \"date\": \"2020-04-03T00:00:00-0400\"}]', 'prices': '[{\"type\": \"printPrice\", \"price\": 3.99}]', 'resourceURI': 'http://gateway.marvel.com/v1/public/comics/78701'}, {'id': 126922, 'digitalId': 0, 'title': 'Spirits of Violence (2025) #2', 'issueNumber': 2, 'dates': '[{\"type\": \"onsaleDate\", \"date\": \"2025-11-05T00:00:00-0500\"}, {\"type\": \"focDate\", \"date\": \"2025-10-06T00:00:00-0400\"}]', 'prices': '[{\"type\": \"printPrice\", \"price\": 3.99}]', 'resourceURI': 'http://gateway.marvel.com/v1/public/comics/126922'}, {'id': 119965, 'digitalId': 0, 'title': 'Hellhunters (2024) #5', 'issueNumber': 5, 'dates': '[{\"type\": \"onsaleDate\", \"date\": \"2025-04-30T00:00:00-0400\"}, {\"type\": \"focDate\", \"date\": \"2025-03-31T00:00:00-0400\"}]', 'prices': '[{\"type\": \"printPrice\", \"price\": 3.99}]', 'resourceURI': 'http://gateway.marvel.com/v1/public/comics/119965'}, {'id': 121369, 'digitalId': 0, 'title': \"Doom's Division (2025) #2\", 'issueNumber': 2, 'dates': '[{\"type\": \"onsaleDate\", \"date\": \"2025-04-30T00:00:00-0400\"}, {\"type\": \"focDate\", \"date\": \"2025-03-31T00:00:00-0400\"}]', 'prices': '[{\"type\": \"printPrice\", \"price\": 3.99}]', 'resourceURI': 'http://gateway.marvel.com/v1/public/comics/121369'}, {'id': 119397, 'digitalId': 0, 'title': 'Fantastic Four (2022) #31', 'issueNumber': 31, 'dates': '[{\"type\": \"onsaleDate\", \"date\": \"2025-04-30T00:00:00-0400\"}, {\"type\": \"focDate\", \"date\": \"2025-03-31T00:00:00-0400\"}]', 'prices': '[{\"type\": \"printPrice\", \"price\": 3.99}]', 'resourceURI': 'http://gateway.marvel.com/v1/public/comics/119397'}, {'id': 125647, 'digitalId': 0, 'title': 'GODZILLA VS. SPIDER-MAN (2025) #1', 'issueNumber': 1, 'dates': '[{\"type\": \"onsaleDate\", \"date\": \"2025-04-30T00:00:00-0400\"}, {\"type\": \"focDate\", \"date\": \"2025-03-17T00:00:00-0400\"}]', 'prices': '[{\"type\": \"printPrice\", \"price\": 4.99}]', 'resourceURI': 'http://gateway.marvel.com/v1/public/comics/125647'}, {'id': 115551, 'digitalId': 0, 'title': 'Red Hulk (2025) #3', 'issueNumber': 3, 'dates': '[{\"type\": \"onsaleDate\", \"date\": \"2025-04-30T00:00:00-0400\"}, {\"type\": \"focDate\", \"date\": \"2025-03-31T00:00:00-0400\"}]', 'prices': '[{\"type\": \"printPrice\", \"price\": 3.99}]', 'resourceURI': 'http://gateway.marvel.com/v1/public/comics/115551'}, {'id': 89730, 'digitalId': 0, 'title': 'Star Wars: The Rise of Skywalker Adaptation (2025) #3', 'issueNumber': 3, 'dates': '[{\"type\": \"onsaleDate\", \"date\": \"2025-04-30T00:00:00-0400\"}, {\"type\": \"focDate\", \"date\": \"2025-03-31T00:00:00-0400\"}]', 'prices': '[{\"type\": \"printPrice\", \"price\": 3.99}]', 'resourceURI': 'http://gateway.marvel.com/v1/public/comics/89730'}, {'id': 120220, 'digitalId': 0, 'title': 'Weapon X-Men (2025) #3', 'issueNumber': 3, 'dates': '[{\"type\": \"onsaleDate\", \"date\": \"2025-04-30T00:00:00-0400\"}, {\"type\": \"focDate\", \"date\": \"2025-03-31T00:00:00-0400\"}]', 'prices': '[{\"type\": \"printPrice\", \"price\": 3.99}]', 'resourceURI': 'http://gateway.marvel.com/v1/public/comics/120220'}, {'id': 122249, 'digitalId': 0, 'title': 'Star Wars: The High Republic - Fear of the Jedi (2025) #3', 'issueNumber': 3, 'dates': '[{\"type\": \"onsaleDate\", \"date\": \"2025-04-30T00:00:00-0400\"}, {\"type\": \"focDate\", \"date\": \"2025-03-31T00:00:00-0400\"}]', 'prices': '[{\"type\": \"printPrice\", \"price\": 3.99}]', 'resourceURI': 'http://gateway.marvel.com/v1/public/comics/122249'}, {'id': 120359, 'digitalId': 0, 'title': 'Doom Academy (2025) #3', 'issueNumber': 3, 'dates': '[{\"type\": \"onsaleDate\", \"date\": \"2025-04-30T00:00:00-0400\"}, {\"type\": \"focDate\", \"date\": \"2025-03-31T00:00:00-0400\"}]', 'prices': '[{\"type\": \"printPrice\", \"price\": 3.99}]', 'resourceURI': 'http://gateway.marvel.com/v1/public/comics/120359'}, {'id': 120416, 'digitalId': 0, 'title': 'Tva (2024) #5', 'issueNumber': 5, 'dates': '[{\"type\": \"onsaleDate\", \"date\": \"2025-04-30T00:00:00-0400\"}, {\"type\": \"focDate\", \"date\": \"2025-03-31T00:00:00-0400\"}]', 'prices': '[{\"type\": \"printPrice\", \"price\": 3.99}]', 'resourceURI': 'http://gateway.marvel.com/v1/public/comics/120416'}, {'id': 123916, 'digitalId': 0, 'title': 'Rogue: The Savage Land (2025) #4', 'issueNumber': 4, 'dates': '[{\"type\": \"onsaleDate\", \"date\": \"2025-04-30T00:00:00-0400\"}, {\"type\": \"focDate\", \"date\": \"2025-03-31T00:00:00-0400\"}]', 'prices': '[{\"type\": \"printPrice\", \"price\": 3.99}]', 'resourceURI': 'http://gateway.marvel.com/v1/public/comics/123916'}, {'id': 121354, 'digitalId': 0, 'title': 'Thunderbolts: Doomstrike (2025) #3', 'issueNumber': 3, 'dates': '[{\"type\": \"onsaleDate\", \"date\": \"2025-04-30T00:00:00-0400\"}, {\"type\": \"focDate\", \"date\": \"2025-03-31T00:00:00-0400\"}]', 'prices': '[{\"type\": \"printPrice\", \"price\": 3.99}]', 'resourceURI': 'http://gateway.marvel.com/v1/public/comics/121354'}, {'id': 113893, 'digitalId': 0, 'title': 'Ultimate Spider-Man (2024) #16', 'issueNumber': 16, 'dates': '[{\"type\": \"onsaleDate\", \"date\": \"2025-04-30T00:00:00-0400\"}, {\"type\": \"focDate\", \"date\": \"2025-03-31T00:00:00-0400\"}]', 'prices': '[{\"type\": \"printPrice\", \"price\": 4.99}]', 'resourceURI': 'http://gateway.marvel.com/v1/public/comics/113893'}, {'id': 128623, 'digitalId': 73045, 'title': 'Ultimate Spider-Man (2024) #13', 'issueNumber': 13, 'dates': '[{\"type\": \"onsaleDate\", \"date\": \"2025-04-28T00:00:00-0400\"}, {\"type\": \"focDate\", \"date\": \"2025-03-31T00:00:00-0400\"}, {\"type\": \"unlimitedDate\", \"date\": \"2025-01-17T00:00:00-0500\"}, {\"type\": \"digitalPurchaseDate\", \"date\": \"2025-01-17T00:00:00-0500\"}]', 'prices': '[{\"type\": \"printPrice\", \"price\": 0}]', 'resourceURI': 'http://gateway.marvel.com/v1/public/comics/128623'}]\n"
          ]
        }
      ]
    },
    {
      "cell_type": "markdown",
      "source": [
        "## Events"
      ],
      "metadata": {
        "id": "13NixruS4ETx"
      }
    },
    {
      "cell_type": "code",
      "source": [
        "endpoint = 'events'\n",
        "\n",
        "result = get(url, endpoint, headers, params)['data']['results']\n",
        "events = mapper(['id', 'title', 'description', 'resourceURI', 'start', 'end'], result)\n",
        "saveToCSV(csvPath = endpoint, obj = events)\n",
        "saveToSqlite(events, endpoint)"
      ],
      "metadata": {
        "id": "TspDAhRa4GCv"
      },
      "execution_count": 25,
      "outputs": []
    }
  ]
}